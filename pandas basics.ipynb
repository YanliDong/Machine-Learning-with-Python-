{
 "cells": [
  {
   "cell_type": "code",
   "execution_count": null,
   "metadata": {},
   "outputs": [],
   "source": [
    "import pandas"
   ]
  },
  {
   "cell_type": "code",
   "execution_count": null,
   "metadata": {},
   "outputs": [],
   "source": [
    "df = pandas.read_csv('Demo Datasets/Lesson 3/middle_tn_schools.csv')"
   ]
  },
  {
   "cell_type": "code",
   "execution_count": null,
   "metadata": {
    "scrolled": true
   },
   "outputs": [],
   "source": [
    "df.head()"
   ]
  },
  {
   "cell_type": "code",
   "execution_count": null,
   "metadata": {},
   "outputs": [],
   "source": [
    "import pandas as pd"
   ]
  },
  {
   "cell_type": "code",
   "execution_count": null,
   "metadata": {},
   "outputs": [],
   "source": [
    "df = pd.read_csv('Demo Datasets/Lesson 3/middle_tn_schools.csv')"
   ]
  },
  {
   "cell_type": "code",
   "execution_count": null,
   "metadata": {
    "scrolled": true
   },
   "outputs": [],
   "source": [
    "df"
   ]
  },
  {
   "cell_type": "code",
   "execution_count": null,
   "metadata": {
    "scrolled": true
   },
   "outputs": [],
   "source": [
    "# to check all attributes of a object\n",
    "dir(pd)"
   ]
  },
  {
   "cell_type": "code",
   "execution_count": null,
   "metadata": {},
   "outputs": [],
   "source": [
    "# Problem Statement 1 : Lesson 2"
   ]
  },
  {
   "cell_type": "code",
   "execution_count": null,
   "metadata": {},
   "outputs": [],
   "source": [
    "data = pd.read_csv('Demo Datasets/Lesson 3/SalaryGender.csv')"
   ]
  },
  {
   "cell_type": "code",
   "execution_count": null,
   "metadata": {},
   "outputs": [],
   "source": [
    "data"
   ]
  },
  {
   "cell_type": "code",
   "execution_count": null,
   "metadata": {},
   "outputs": [],
   "source": [
    "import numpy as np"
   ]
  },
  {
   "cell_type": "code",
   "execution_count": null,
   "metadata": {},
   "outputs": [],
   "source": [
    "salary_arr = np.array(data['Salary'])"
   ]
  },
  {
   "cell_type": "code",
   "execution_count": null,
   "metadata": {
    "scrolled": true
   },
   "outputs": [],
   "source": [
    "salary_arr"
   ]
  },
  {
   "cell_type": "code",
   "execution_count": null,
   "metadata": {},
   "outputs": [],
   "source": [
    "data['Salary'].values"
   ]
  },
  {
   "cell_type": "code",
   "execution_count": null,
   "metadata": {},
   "outputs": [],
   "source": [
    "# How to access multiple columns\n",
    "arr = np.array(data[['Salary', 'PhD']])"
   ]
  },
  {
   "cell_type": "code",
   "execution_count": null,
   "metadata": {
    "scrolled": true
   },
   "outputs": [],
   "source": [
    "arr"
   ]
  },
  {
   "cell_type": "code",
   "execution_count": null,
   "metadata": {},
   "outputs": [],
   "source": [
    "# properties of a DataFrame"
   ]
  },
  {
   "cell_type": "code",
   "execution_count": null,
   "metadata": {},
   "outputs": [],
   "source": [
    "data"
   ]
  },
  {
   "cell_type": "code",
   "execution_count": null,
   "metadata": {},
   "outputs": [],
   "source": [
    "data.shape"
   ]
  },
  {
   "cell_type": "code",
   "execution_count": null,
   "metadata": {},
   "outputs": [],
   "source": [
    "data.dtypes"
   ]
  },
  {
   "cell_type": "code",
   "execution_count": null,
   "metadata": {
    "scrolled": true
   },
   "outputs": [],
   "source": [
    "data.astype(float)"
   ]
  },
  {
   "cell_type": "code",
   "execution_count": null,
   "metadata": {},
   "outputs": [],
   "source": [
    "data['Salary'].dtype"
   ]
  },
  {
   "cell_type": "code",
   "execution_count": null,
   "metadata": {},
   "outputs": [],
   "source": [
    "data['Salary'].astype(int)"
   ]
  },
  {
   "cell_type": "code",
   "execution_count": null,
   "metadata": {},
   "outputs": [],
   "source": [
    "data.keys()"
   ]
  },
  {
   "cell_type": "code",
   "execution_count": null,
   "metadata": {},
   "outputs": [],
   "source": [
    "data.columns"
   ]
  },
  {
   "cell_type": "code",
   "execution_count": null,
   "metadata": {},
   "outputs": [],
   "source": [
    "data.index"
   ]
  },
  {
   "cell_type": "code",
   "execution_count": null,
   "metadata": {
    "scrolled": true
   },
   "outputs": [],
   "source": [
    "data.values"
   ]
  },
  {
   "cell_type": "code",
   "execution_count": null,
   "metadata": {
    "scrolled": true
   },
   "outputs": [],
   "source": [
    "data"
   ]
  },
  {
   "cell_type": "code",
   "execution_count": null,
   "metadata": {},
   "outputs": [],
   "source": [
    "data.index = ['emp'+str(i) for i in range(len(data))]"
   ]
  },
  {
   "cell_type": "code",
   "execution_count": null,
   "metadata": {
    "scrolled": true
   },
   "outputs": [],
   "source": [
    "data"
   ]
  },
  {
   "cell_type": "code",
   "execution_count": null,
   "metadata": {},
   "outputs": [],
   "source": [
    "data.iloc[20:30, 2:5]"
   ]
  },
  {
   "cell_type": "code",
   "execution_count": null,
   "metadata": {},
   "outputs": [],
   "source": [
    "data.loc[['emp1', 'emp3'],['Salary', 'PhD']]"
   ]
  },
  {
   "cell_type": "code",
   "execution_count": null,
   "metadata": {},
   "outputs": [],
   "source": [
    "type(data)"
   ]
  },
  {
   "cell_type": "code",
   "execution_count": null,
   "metadata": {},
   "outputs": [],
   "source": [
    "type(data['Salary'])"
   ]
  },
  {
   "cell_type": "code",
   "execution_count": null,
   "metadata": {},
   "outputs": [],
   "source": [
    "data.dtypes"
   ]
  },
  {
   "cell_type": "code",
   "execution_count": null,
   "metadata": {},
   "outputs": [],
   "source": [
    "data.Gender = data.Gender.astype(str)"
   ]
  },
  {
   "cell_type": "code",
   "execution_count": null,
   "metadata": {},
   "outputs": [],
   "source": [
    "data.dtypes"
   ]
  },
  {
   "cell_type": "code",
   "execution_count": null,
   "metadata": {},
   "outputs": [],
   "source": [
    "type(data.loc['emp3', :])"
   ]
  },
  {
   "cell_type": "code",
   "execution_count": null,
   "metadata": {},
   "outputs": [],
   "source": [
    "data.loc['emp3', :]"
   ]
  },
  {
   "cell_type": "code",
   "execution_count": null,
   "metadata": {},
   "outputs": [],
   "source": [
    "data.loc['emp3', :].dtype"
   ]
  },
  {
   "cell_type": "code",
   "execution_count": null,
   "metadata": {},
   "outputs": [],
   "source": [
    "data.dtypes"
   ]
  },
  {
   "cell_type": "code",
   "execution_count": null,
   "metadata": {},
   "outputs": [],
   "source": [
    "data['Gender'] = data['Gender'].astype(str)"
   ]
  },
  {
   "cell_type": "code",
   "execution_count": null,
   "metadata": {},
   "outputs": [],
   "source": [
    "data.dtypes"
   ]
  },
  {
   "cell_type": "code",
   "execution_count": null,
   "metadata": {},
   "outputs": [],
   "source": [
    "data.loc['emp3',:]"
   ]
  },
  {
   "cell_type": "code",
   "execution_count": null,
   "metadata": {},
   "outputs": [],
   "source": [
    "data.loc['emp3',:].dtype"
   ]
  },
  {
   "cell_type": "code",
   "execution_count": null,
   "metadata": {},
   "outputs": [],
   "source": [
    "df = pandas.read_csv('Demo Datasets/Lesson 3/middle_tn_schools.csv')"
   ]
  },
  {
   "cell_type": "code",
   "execution_count": null,
   "metadata": {},
   "outputs": [],
   "source": [
    "df.head()"
   ]
  },
  {
   "cell_type": "code",
   "execution_count": null,
   "metadata": {
    "scrolled": true
   },
   "outputs": [],
   "source": [
    "df['school_type'].unique()"
   ]
  },
  {
   "cell_type": "code",
   "execution_count": null,
   "metadata": {},
   "outputs": [],
   "source": [
    "df['school_type'].nunique()"
   ]
  },
  {
   "cell_type": "code",
   "execution_count": null,
   "metadata": {},
   "outputs": [],
   "source": [
    "df['school_type'].value_counts()"
   ]
  },
  {
   "cell_type": "code",
   "execution_count": null,
   "metadata": {},
   "outputs": [],
   "source": [
    "df['school_type'].count()"
   ]
  },
  {
   "cell_type": "code",
   "execution_count": null,
   "metadata": {},
   "outputs": [],
   "source": [
    "df.shape"
   ]
  },
  {
   "cell_type": "code",
   "execution_count": null,
   "metadata": {},
   "outputs": [],
   "source": [
    "df.corr()"
   ]
  },
  {
   "cell_type": "code",
   "execution_count": null,
   "metadata": {},
   "outputs": [],
   "source": [
    "import matplotlib.pyplot as plt\n",
    "import seaborn as sns\n",
    "\n",
    "plt.figure(figsize=(20,10))\n",
    "\n",
    "df = pd.read_csv('Demo Datasets/Lesson 3/middle_tn_schools.csv')\n",
    "\n",
    "correlations = df.corr()\n",
    "\n",
    "ax = sns.heatmap(data = correlations, cmap='bwr', annot=True)\n",
    "\n",
    "plt.yticks(rotation=0)\n",
    "plt.xticks(rotation=90)\n",
    "plt.show()"
   ]
  },
  {
   "cell_type": "code",
   "execution_count": null,
   "metadata": {},
   "outputs": [],
   "source": [
    "df.info()"
   ]
  },
  {
   "cell_type": "code",
   "execution_count": null,
   "metadata": {},
   "outputs": [],
   "source": [
    "quant_df = df.drop(['name', 'school_type'], axis=1)"
   ]
  },
  {
   "cell_type": "code",
   "execution_count": null,
   "metadata": {},
   "outputs": [],
   "source": [
    "df.select_dtypes('float64').info()"
   ]
  },
  {
   "cell_type": "code",
   "execution_count": null,
   "metadata": {},
   "outputs": [],
   "source": [
    "quant_df.info()"
   ]
  },
  {
   "cell_type": "code",
   "execution_count": null,
   "metadata": {},
   "outputs": [],
   "source": [
    "pd.pivot_table(df, index='school_type', values='school_rating', aggfunc='mean')"
   ]
  },
  {
   "cell_type": "code",
   "execution_count": null,
   "metadata": {},
   "outputs": [],
   "source": [
    "quant_df.describe()"
   ]
  },
  {
   "cell_type": "code",
   "execution_count": null,
   "metadata": {
    "scrolled": true
   },
   "outputs": [],
   "source": [
    "df.select_dtypes('O').describe()"
   ]
  },
  {
   "cell_type": "code",
   "execution_count": null,
   "metadata": {
    "scrolled": false
   },
   "outputs": [],
   "source": [
    "quant_df.describe().unstack()"
   ]
  },
  {
   "cell_type": "code",
   "execution_count": null,
   "metadata": {},
   "outputs": [],
   "source": [
    "dir(quant_df)"
   ]
  },
  {
   "cell_type": "code",
   "execution_count": null,
   "metadata": {},
   "outputs": [],
   "source": [
    "quant_df.mean()"
   ]
  },
  {
   "cell_type": "code",
   "execution_count": null,
   "metadata": {},
   "outputs": [],
   "source": [
    "quant_df.mean(axis=1)"
   ]
  },
  {
   "cell_type": "code",
   "execution_count": null,
   "metadata": {},
   "outputs": [],
   "source": [
    "quant_df.var()"
   ]
  },
  {
   "cell_type": "code",
   "execution_count": null,
   "metadata": {},
   "outputs": [],
   "source": [
    "quant_df.sum()"
   ]
  },
  {
   "cell_type": "code",
   "execution_count": null,
   "metadata": {},
   "outputs": [],
   "source": [
    "quant_df.std()"
   ]
  },
  {
   "cell_type": "code",
   "execution_count": null,
   "metadata": {},
   "outputs": [],
   "source": [
    "quant_df.count()"
   ]
  },
  {
   "cell_type": "code",
   "execution_count": null,
   "metadata": {
    "scrolled": true
   },
   "outputs": [],
   "source": [
    "quant_df.aggregate(['sum', 'mean'])"
   ]
  },
  {
   "cell_type": "code",
   "execution_count": null,
   "metadata": {},
   "outputs": [],
   "source": [
    "quant_df.aggregate(['min', 'max', 'var']).unstack()"
   ]
  },
  {
   "cell_type": "code",
   "execution_count": null,
   "metadata": {},
   "outputs": [],
   "source": [
    "import pandas as pd\n",
    "world_cup={'Team':['West Indies','West indies','India','Australia','Pakistan','Sri Lanka',\n",
    "                   'Australia','Australia','Australia','India','Australia','England'],\n",
    "           'Rank':[7,7,2,1,6,4,1,1,1,2,1,3],  \n",
    "           'Year':[1975,1979,1983,1987,1992,1996,1999,2003,2007,2011,2015,2019]}"
   ]
  },
  {
   "cell_type": "code",
   "execution_count": null,
   "metadata": {},
   "outputs": [],
   "source": [
    "df = pd.DataFrame(world_cup)"
   ]
  },
  {
   "cell_type": "code",
   "execution_count": null,
   "metadata": {},
   "outputs": [],
   "source": [
    "df"
   ]
  },
  {
   "cell_type": "code",
   "execution_count": null,
   "metadata": {},
   "outputs": [],
   "source": [
    "df.groupby([\"Team\",\"Rank\"]).groups"
   ]
  },
  {
   "cell_type": "code",
   "execution_count": null,
   "metadata": {
    "scrolled": true
   },
   "outputs": [],
   "source": [
    "x = df.groupby(['Team']).sum()"
   ]
  },
  {
   "cell_type": "code",
   "execution_count": null,
   "metadata": {},
   "outputs": [],
   "source": [
    "x['Rank']"
   ]
  },
  {
   "cell_type": "code",
   "execution_count": null,
   "metadata": {},
   "outputs": [],
   "source": [
    "x.rename({'Year':'xxyyzz'}, axis=1)"
   ]
  },
  {
   "cell_type": "code",
   "execution_count": null,
   "metadata": {},
   "outputs": [],
   "source": [
    "df.groupby(['Team','Rank']).count()"
   ]
  },
  {
   "cell_type": "code",
   "execution_count": null,
   "metadata": {},
   "outputs": [],
   "source": [
    "df.groupby(['Team','Rank']).size()"
   ]
  },
  {
   "cell_type": "code",
   "execution_count": null,
   "metadata": {},
   "outputs": [],
   "source": [
    "df = pd.read_csv('Demo Datasets/Lesson 3/middle_tn_schools.csv')"
   ]
  },
  {
   "cell_type": "code",
   "execution_count": null,
   "metadata": {},
   "outputs": [],
   "source": [
    "df"
   ]
  },
  {
   "cell_type": "code",
   "execution_count": null,
   "metadata": {},
   "outputs": [],
   "source": [
    "grouped_mean = df.groupby('school_type').mean()['school_rating']"
   ]
  },
  {
   "cell_type": "code",
   "execution_count": null,
   "metadata": {},
   "outputs": [],
   "source": [
    "type(grouped_mean)"
   ]
  },
  {
   "cell_type": "code",
   "execution_count": null,
   "metadata": {},
   "outputs": [],
   "source": [
    "grouped_mean"
   ]
  },
  {
   "cell_type": "code",
   "execution_count": null,
   "metadata": {},
   "outputs": [],
   "source": [
    "grouped_mean.reset_index()"
   ]
  },
  {
   "cell_type": "code",
   "execution_count": null,
   "metadata": {},
   "outputs": [],
   "source": [
    "grouped_mean.reset_index(drop=True)"
   ]
  },
  {
   "cell_type": "code",
   "execution_count": null,
   "metadata": {},
   "outputs": [],
   "source": [
    "import pandas as pd\n",
    "\n",
    "one = pd.DataFrame({\n",
    "   'Name': ['Alex', 'Amy', 'Allen', 'Alice', 'Ayoung'],\n",
    "   'subject_id':['sub1','sub2','sub4','sub6','sub5'],\n",
    "   'Marks_scored':[98,90,87,69,78]},\n",
    "   index=[1,2,3,4,6])\n",
    "\n",
    "two = pd.DataFrame({\n",
    "   'Name_two': ['Billy', 'Brian', 'Bran', 'Bryce', 'Betty'],\n",
    "   'subject_id':['sub2','sub4','sub3','sub6','sub5'],\n",
    "   'Marks_scored':[89,80,79,97,88]},\n",
    "   index=[1,2,3,4,5])"
   ]
  },
  {
   "cell_type": "code",
   "execution_count": null,
   "metadata": {},
   "outputs": [],
   "source": [
    "one"
   ]
  },
  {
   "cell_type": "code",
   "execution_count": null,
   "metadata": {},
   "outputs": [],
   "source": [
    "two"
   ]
  },
  {
   "cell_type": "code",
   "execution_count": null,
   "metadata": {},
   "outputs": [],
   "source": [
    "pd.concat([one,two],axis=0).loc[1,:]"
   ]
  },
  {
   "cell_type": "code",
   "execution_count": null,
   "metadata": {
    "scrolled": true
   },
   "outputs": [],
   "source": [
    "pd.concat([one,two],axis=1)"
   ]
  },
  {
   "cell_type": "code",
   "execution_count": null,
   "metadata": {},
   "outputs": [],
   "source": [
    "import pandas as pd\n",
    "\n",
    "one = pd.DataFrame({\n",
    "   'Name': ['Alex', 'Amy', 'Allen', 'Alice', 'Ayoung'],\n",
    "   'subject_id':['sub1','sub2','sub4','sub6','sub5'],\n",
    "   'Marks_scored':[98,90,87,69,78]},\n",
    "   index=[1,2,3,4,6])\n",
    "\n",
    "two = pd.DataFrame({\n",
    "   'Name': ['Billy', 'Brian', 'Bran', 'Bryce', 'Betty'],\n",
    "   'subject_id':['sub2','sub4','sub3','sub6','sub5'],\n",
    "   'Marks_scored':[89,80,79,97,88]},\n",
    "   index=[1,2,3,4,5])"
   ]
  },
  {
   "cell_type": "code",
   "execution_count": null,
   "metadata": {},
   "outputs": [],
   "source": [
    "one"
   ]
  },
  {
   "cell_type": "code",
   "execution_count": null,
   "metadata": {},
   "outputs": [],
   "source": [
    "two"
   ]
  },
  {
   "cell_type": "code",
   "execution_count": null,
   "metadata": {},
   "outputs": [],
   "source": [
    "data = pd.concat([one,two],axis=1)"
   ]
  },
  {
   "cell_type": "code",
   "execution_count": null,
   "metadata": {},
   "outputs": [],
   "source": [
    "data"
   ]
  },
  {
   "cell_type": "code",
   "execution_count": null,
   "metadata": {},
   "outputs": [],
   "source": [
    "pd.concat([one,two],axis=1,join='inner')"
   ]
  },
  {
   "cell_type": "code",
   "execution_count": null,
   "metadata": {},
   "outputs": [],
   "source": [
    "one = pd.DataFrame({\n",
    "   'Name': ['Alex', 'Amy', 'Allen', 'Alice', 'Ayoung'],\n",
    "   'subject_id':['sub1','sub2','sub4','sub6','sub5'],\n",
    "   'Marks_scored':[98,90,87,69,78]},\n",
    "   index=[1,2,3,4,6])\n",
    "\n",
    "two = pd.DataFrame({\n",
    "   'Name': ['Billy', 'Brian', 'Bran', 'Bryce', 'Betty'],\n",
    "   'subject_id_1':['sub2','sub4','sub3','sub6','sub5'],\n",
    "   'Marks_scored':[89,80,79,97,88]},\n",
    "   index=[1,2,3,4,5])"
   ]
  },
  {
   "cell_type": "code",
   "execution_count": null,
   "metadata": {},
   "outputs": [],
   "source": [
    "one"
   ]
  },
  {
   "cell_type": "code",
   "execution_count": null,
   "metadata": {},
   "outputs": [],
   "source": [
    "two"
   ]
  },
  {
   "cell_type": "markdown",
   "metadata": {},
   "source": [
    "* left   : LEFT OUTER JOIN    : Use keys from left frame only\n",
    "* right  : RIGHT OUTER JOIN   : Use keys from right frame only\n",
    "* outer  : FULL OUTER JOIN    : Use union of keys from both frames\n",
    "* inner  : INNER JOIN         : Use intersection of keys from both frames : default"
   ]
  },
  {
   "cell_type": "code",
   "execution_count": null,
   "metadata": {},
   "outputs": [],
   "source": [
    "data = pd.merge(one,two,how='inner',left_on='subject_id', right_on='subject_id_1', suffixes=('_sec_A','_sec_B'))\n",
    "data"
   ]
  },
  {
   "cell_type": "code",
   "execution_count": null,
   "metadata": {},
   "outputs": [],
   "source": [
    "one = pd.DataFrame({\n",
    "   'Name': ['Alex', 'Amy', 'Allen', 'Alice', 'Ayoung'],\n",
    "   'subject_id':['sub1','sub2','sub4','sub6','sub5'],\n",
    "   'Marks_scored':[98,90,87,69,78]},\n",
    "   index=[1,2,3,4,6])\n",
    "\n",
    "two = pd.DataFrame({\n",
    "   'Name': ['Billy', 'Brian', 'Bran', 'Bryce', 'Betty'],\n",
    "   'subject_id':['sub2','sub4','sub3','sub6','sub5'],\n",
    "   'Marks_scored':[89,80,79,97,88]},\n",
    "   index=[1,2,3,4,5])"
   ]
  },
  {
   "cell_type": "code",
   "execution_count": null,
   "metadata": {
    "scrolled": true
   },
   "outputs": [],
   "source": [
    "pd.merge(two,one,how='inner',on='subject_id')"
   ]
  },
  {
   "cell_type": "code",
   "execution_count": null,
   "metadata": {},
   "outputs": [],
   "source": [
    "one"
   ]
  },
  {
   "cell_type": "code",
   "execution_count": null,
   "metadata": {},
   "outputs": [],
   "source": [
    "two"
   ]
  },
  {
   "cell_type": "code",
   "execution_count": null,
   "metadata": {
    "scrolled": true
   },
   "outputs": [],
   "source": [
    "pd.merge(one,two,how='right',on='subject_id')\n"
   ]
  },
  {
   "cell_type": "code",
   "execution_count": null,
   "metadata": {},
   "outputs": [],
   "source": [
    "pd.merge(one,two,how='left',on='subject_id')\n"
   ]
  },
  {
   "cell_type": "code",
   "execution_count": null,
   "metadata": {},
   "outputs": [],
   "source": [
    "import pandas as pd"
   ]
  },
  {
   "cell_type": "code",
   "execution_count": null,
   "metadata": {},
   "outputs": [],
   "source": [
    "df = pd.read_csv('Demo Datasets/Lesson 3/middle_tn_schools.csv')"
   ]
  },
  {
   "cell_type": "code",
   "execution_count": null,
   "metadata": {},
   "outputs": [],
   "source": [
    "df"
   ]
  },
  {
   "cell_type": "code",
   "execution_count": null,
   "metadata": {
    "scrolled": true
   },
   "outputs": [],
   "source": [
    "df.isnull().sum()"
   ]
  },
  {
   "cell_type": "code",
   "execution_count": null,
   "metadata": {
    "scrolled": true
   },
   "outputs": [],
   "source": [
    "sr = df.isnull().mean()*100"
   ]
  },
  {
   "cell_type": "code",
   "execution_count": null,
   "metadata": {},
   "outputs": [],
   "source": [
    "sr"
   ]
  },
  {
   "cell_type": "code",
   "execution_count": null,
   "metadata": {},
   "outputs": [],
   "source": [
    "sr[sr != 0]"
   ]
  },
  {
   "cell_type": "code",
   "execution_count": null,
   "metadata": {},
   "outputs": [],
   "source": [
    "list(sr[sr>30].index)"
   ]
  },
  {
   "cell_type": "code",
   "execution_count": null,
   "metadata": {},
   "outputs": [],
   "source": [
    "df1 = df.copy()"
   ]
  },
  {
   "cell_type": "code",
   "execution_count": null,
   "metadata": {
    "scrolled": true
   },
   "outputs": [],
   "source": [
    "df1.drop(list(sr[sr>30].index), axis=1)"
   ]
  },
  {
   "cell_type": "code",
   "execution_count": null,
   "metadata": {},
   "outputs": [],
   "source": [
    "for col in df1.columns:\n",
    "    df1[col] = df1[col].fillna(df1[col].mean())"
   ]
  },
  {
   "cell_type": "code",
   "execution_count": null,
   "metadata": {},
   "outputs": [],
   "source": [
    "df1.state_percentile_15.mean()"
   ]
  },
  {
   "cell_type": "code",
   "execution_count": null,
   "metadata": {},
   "outputs": [],
   "source": [
    "df1.state_percentile_15.fillna(df1.state_percentile_15.mean())"
   ]
  },
  {
   "cell_type": "code",
   "execution_count": null,
   "metadata": {},
   "outputs": [],
   "source": [
    "df1.state_percentile_15 = df1.state_percentile_15.fillna(df1.state_percentile_15.mean())"
   ]
  },
  {
   "cell_type": "code",
   "execution_count": null,
   "metadata": {},
   "outputs": [],
   "source": [
    "sr = df1.isnull().sum()"
   ]
  },
  {
   "cell_type": "code",
   "execution_count": null,
   "metadata": {},
   "outputs": [],
   "source": [
    "sr"
   ]
  },
  {
   "cell_type": "code",
   "execution_count": null,
   "metadata": {},
   "outputs": [],
   "source": [
    "df1.avg_score_15.plot(kind='kde')"
   ]
  },
  {
   "cell_type": "code",
   "execution_count": null,
   "metadata": {},
   "outputs": [],
   "source": [
    "df1.avg_score_15 = df1.avg_score_15.fillna(df1.avg_score_15.median())"
   ]
  },
  {
   "cell_type": "code",
   "execution_count": null,
   "metadata": {},
   "outputs": [],
   "source": [
    "df1.isnull().sum()"
   ]
  },
  {
   "cell_type": "code",
   "execution_count": null,
   "metadata": {},
   "outputs": [],
   "source": []
  },
  {
   "cell_type": "code",
   "execution_count": null,
   "metadata": {},
   "outputs": [],
   "source": [
    "import seaborn as sns\n",
    "sns.boxplot(x=df1['size'])"
   ]
  },
  {
   "cell_type": "code",
   "execution_count": null,
   "metadata": {},
   "outputs": [],
   "source": [
    "df1_outlier_rem=df1[df1['size'].values < 1500]\n",
    "sns.boxplot(x=df1_outlier_rem['size'])"
   ]
  },
  {
   "cell_type": "code",
   "execution_count": null,
   "metadata": {},
   "outputs": [],
   "source": [
    "(df[df['size'] > 1500].shape[0]/df.shape[0])*100"
   ]
  },
  {
   "cell_type": "code",
   "execution_count": null,
   "metadata": {
    "scrolled": true
   },
   "outputs": [],
   "source": [
    "df.hist('size')"
   ]
  },
  {
   "cell_type": "code",
   "execution_count": null,
   "metadata": {},
   "outputs": [],
   "source": [
    "import matplotlib.pyplot as plt\n",
    "plt.scatter(df.index, df['size'])"
   ]
  },
  {
   "cell_type": "code",
   "execution_count": null,
   "metadata": {
    "scrolled": true
   },
   "outputs": [],
   "source": [
    "df['size'].plot.kde()"
   ]
  },
  {
   "cell_type": "code",
   "execution_count": null,
   "metadata": {},
   "outputs": [],
   "source": []
  },
  {
   "cell_type": "markdown",
   "metadata": {},
   "source": [
    "## StandardScaler\n",
    "* The StandardScaler assumes your data is normally distributed within each feature and will scale them such that the distribution is now centred around 0, with a standard deviation of 1.\n",
    "* Calculate - Subtract mean of column & div by standard deviation\n",
    "\n",
    "\n",
    "\n",
    "<img src=\"https://github.com/awantik/machine-learning-slides/blob/master/pp4.PNG?raw=true\">\n",
    "\n",
    "\n",
    "* If data is not normally distributed, this is not the best scaler to use."
   ]
  },
  {
   "cell_type": "code",
   "execution_count": null,
   "metadata": {},
   "outputs": [],
   "source": [
    "#Generating normally distributed data\n",
    "import numpy as np\n",
    "\n",
    "df = pd.DataFrame({\n",
    "    'x1': np.random.normal(0, 2, 10000),\n",
    "    'x2': np.random.normal(5, 3, 10000),\n",
    "    'x3': np.random.normal(-5, 5, 10000)\n",
    "})"
   ]
  },
  {
   "cell_type": "code",
   "execution_count": null,
   "metadata": {},
   "outputs": [],
   "source": [
    "# plotting data\n",
    "\n",
    "df.plot.kde()"
   ]
  },
  {
   "cell_type": "code",
   "execution_count": null,
   "metadata": {},
   "outputs": [],
   "source": [
    "from sklearn.preprocessing import StandardScaler\n",
    "\n",
    "standardscaler = StandardScaler()"
   ]
  },
  {
   "cell_type": "code",
   "execution_count": null,
   "metadata": {},
   "outputs": [],
   "source": [
    "data_tf = standardscaler.fit_transform(df)"
   ]
  },
  {
   "cell_type": "code",
   "execution_count": null,
   "metadata": {},
   "outputs": [],
   "source": [
    "data_tf"
   ]
  },
  {
   "cell_type": "code",
   "execution_count": null,
   "metadata": {},
   "outputs": [],
   "source": [
    "df = pd.DataFrame(data_tf, columns=['x1','x2','x3'])"
   ]
  },
  {
   "cell_type": "code",
   "execution_count": null,
   "metadata": {
    "scrolled": true
   },
   "outputs": [],
   "source": [
    "df.plot.kde()"
   ]
  },
  {
   "cell_type": "markdown",
   "metadata": {},
   "source": [
    "## 2. MinMaxScaler\n",
    "* One of the most popular\n",
    "* Calculate - Subtract min of column & div by difference between max & min\n",
    "\n",
    "\n",
    "\n",
    "\n",
    "<img src=\"https://github.com/awantik/machine-learning-slides/blob/master/pp3.PNG?raw=true\">\n",
    "\n",
    "\n",
    "\n",
    "* Data shifts between 0 & 1\n",
    "* If distribution not suitable for StandardScaler, this scaler works out.\n",
    "* Sensitive to outliers"
   ]
  },
  {
   "cell_type": "code",
   "execution_count": 3,
   "metadata": {},
   "outputs": [],
   "source": [
    "import pandas as pd\n",
    "import numpy as np"
   ]
  },
  {
   "cell_type": "code",
   "execution_count": 4,
   "metadata": {},
   "outputs": [],
   "source": [
    "df = pd.DataFrame({\n",
    "    # positive skew\n",
    "    'x1': np.random.chisquare(8, 1000),\n",
    "    # negative skew \n",
    "    'x2': np.random.beta(8, 2, 1000) * 40,\n",
    "    # no skew\n",
    "    'x3': np.random.normal(50, 3, 1000)\n",
    "})"
   ]
  },
  {
   "cell_type": "code",
   "execution_count": 5,
   "metadata": {},
   "outputs": [
    {
     "data": {
      "text/plain": [
       "<AxesSubplot:ylabel='Density'>"
      ]
     },
     "execution_count": 5,
     "metadata": {},
     "output_type": "execute_result"
    },
    {
     "data": {
      "image/png": "[encoded data removed]",
      "text/plain": [
       "<Figure size 432x288 with 1 Axes>"
      ]
     },
     "metadata": {
      "needs_background": "light"
     },
     "output_type": "display_data"
    }
   ],
   "source": [
    "df.plot.kde()"
   ]
  },
  {
   "cell_type": "code",
   "execution_count": 6,
   "metadata": {},
   "outputs": [],
   "source": [
    "from sklearn.preprocessing import MinMaxScaler"
   ]
  },
  {
   "cell_type": "code",
   "execution_count": 7,
   "metadata": {},
   "outputs": [],
   "source": [
    "minmax = MinMaxScaler()\n",
    "data_tf = minmax.fit_transform(df)"
   ]
  },
  {
   "cell_type": "code",
   "execution_count": 8,
   "metadata": {},
   "outputs": [
    {
     "data": {
      "text/plain": [
       "<AxesSubplot:ylabel='Density'>"
      ]
     },
     "execution_count": 8,
     "metadata": {},
     "output_type": "execute_result"
    },
    {
     "data": {
      "image/png": "[encoded data removed]",
      "text/plain": [
       "<Figure size 432x288 with 1 Axes>"
      ]
     },
     "metadata": {
      "needs_background": "light"
     },
     "output_type": "display_data"
    }
   ],
   "source": [
    "df = pd.DataFrame(data_tf,columns=['x1','x2','x3'])\n",
    "df.plot.kde()"
   ]
  },
  {
   "cell_type": "code",
   "execution_count": 9,
   "metadata": {},
   "outputs": [],
   "source": [
    "from sklearn.preprocessing import StandardScaler\n",
    "\n",
    "standardscaler = StandardScaler()"
   ]
  },
  {
   "cell_type": "code",
   "execution_count": 10,
   "metadata": {},
   "outputs": [],
   "source": [
    "data_tf = standardscaler.fit_transform(df)"
   ]
  },
  {
   "cell_type": "code",
   "execution_count": 11,
   "metadata": {},
   "outputs": [],
   "source": [
    "df = pd.DataFrame(data_tf, columns=['x1','x2','x3'])"
   ]
  },
  {
   "cell_type": "code",
   "execution_count": 12,
   "metadata": {
    "scrolled": true
   },
   "outputs": [
    {
     "data": {
      "text/plain": [
       "<AxesSubplot:ylabel='Density'>"
      ]
     },
     "execution_count": 12,
     "metadata": {},
     "output_type": "execute_result"
    },
    {
     "data": {
      "image/png": "[encoded data removed]",
      "text/plain": [
       "<Figure size 432x288 with 1 Axes>"
      ]
     },
     "metadata": {
      "needs_background": "light"
     },
     "output_type": "display_data"
    }
   ],
   "source": [
    "df.plot.kde()"
   ]
  },
  {
   "cell_type": "code",
   "execution_count": null,
   "metadata": {},
   "outputs": [],
   "source": []
  },
  {
   "cell_type": "markdown",
   "metadata": {},
   "source": [
    "## 4. Robust Scaler\n",
    "* Suited for data with outliers\n",
    "* Calculate by subtracting 1st-quartile & div by difference between 3rd-quartile & 1st-quartile\n",
    "\n",
    "\n",
    "\n",
    "\n",
    "\n",
    "\n",
    "<img src=\"https://github.com/awantik/machine-learning-slides/blob/master/pp2.PNG?raw=true\">"
   ]
  },
  {
   "cell_type": "code",
   "execution_count": null,
   "metadata": {},
   "outputs": [],
   "source": [
    "df = pd.DataFrame({\n",
    "    # Distribution with lower outliers\n",
    "    'x1': np.concatenate([np.random.normal(20, 1, 1000), np.random.normal(1, 1, 25)]),\n",
    "    # Distribution with higher outliers\n",
    "    'x2': np.concatenate([np.random.normal(30, 1, 1000), np.random.normal(50, 1, 25)]),\n",
    "})"
   ]
  },
  {
   "cell_type": "code",
   "execution_count": null,
   "metadata": {},
   "outputs": [],
   "source": [
    "df.plot.kde()"
   ]
  },
  {
   "cell_type": "code",
   "execution_count": null,
   "metadata": {},
   "outputs": [],
   "source": [
    "from sklearn.preprocessing import RobustScaler\n",
    "robustscaler = RobustScaler()"
   ]
  },
  {
   "cell_type": "code",
   "execution_count": null,
   "metadata": {},
   "outputs": [],
   "source": [
    "data_tf = robustscaler.fit_transform(df)\n",
    "df = pd.DataFrame(data_tf, columns=['x1','x2'])"
   ]
  },
  {
   "cell_type": "code",
   "execution_count": null,
   "metadata": {},
   "outputs": [],
   "source": [
    "df.plot.kde()"
   ]
  },
  {
   "cell_type": "code",
   "execution_count": null,
   "metadata": {},
   "outputs": [],
   "source": [
    "df = pd.DataFrame({\n",
    "    # Distribution with lower outliers\n",
    "    'x1': np.concatenate([np.random.normal(20, 1, 1000), np.random.normal(1, 1, 25)]),\n",
    "    # Distribution with higher outliers\n",
    "    'x2': np.concatenate([np.random.normal(30, 1, 1000), np.random.normal(50, 1, 25)]),\n",
    "})"
   ]
  },
  {
   "cell_type": "code",
   "execution_count": null,
   "metadata": {},
   "outputs": [],
   "source": [
    "standardscaler = StandardScaler()"
   ]
  },
  {
   "cell_type": "code",
   "execution_count": null,
   "metadata": {},
   "outputs": [],
   "source": [
    "data_tf = standardscaler.fit_transform(df)"
   ]
  },
  {
   "cell_type": "code",
   "execution_count": null,
   "metadata": {},
   "outputs": [],
   "source": [
    "df = pd.DataFrame(data_tf, columns=['x1','x2'])"
   ]
  },
  {
   "cell_type": "code",
   "execution_count": null,
   "metadata": {},
   "outputs": [],
   "source": [
    "df.plot.kde()"
   ]
  },
  {
   "cell_type": "code",
   "execution_count": null,
   "metadata": {},
   "outputs": [],
   "source": [
    "df = pd.DataFrame({\n",
    "    # Distribution with lower outliers\n",
    "    'x1': np.concatenate([np.random.normal(20, 1, 1000), np.random.normal(1, 1, 25)]),\n",
    "    # Distribution with higher outliers\n",
    "    'x2': np.concatenate([np.random.normal(30, 1, 1000), np.random.normal(50, 1, 25)]),\n",
    "})"
   ]
  },
  {
   "cell_type": "code",
   "execution_count": null,
   "metadata": {},
   "outputs": [],
   "source": [
    "minmax = MinMaxScaler()\n",
    "data_tf = minmax.fit_transform(df)"
   ]
  },
  {
   "cell_type": "code",
   "execution_count": null,
   "metadata": {},
   "outputs": [],
   "source": [
    "df = pd.DataFrame(data_tf,columns=['x1','x2'])\n",
    "df.plot.kde()"
   ]
  },
  {
   "cell_type": "code",
   "execution_count": null,
   "metadata": {},
   "outputs": [],
   "source": []
  },
  {
   "cell_type": "markdown",
   "metadata": {},
   "source": [
    "## Encoding Categorical Values \n",
    "#### Encoding Ordinal Values\n",
    "* Ordinal Values - Low, Medium & High. Relationship between values\n",
    "* LabelEncoding with right mapping"
   ]
  },
  {
   "cell_type": "code",
   "execution_count": null,
   "metadata": {},
   "outputs": [],
   "source": [
    "import pandas as pd"
   ]
  },
  {
   "cell_type": "code",
   "execution_count": null,
   "metadata": {},
   "outputs": [],
   "source": [
    "df = pd.DataFrame({\n",
    "    'Age':[33,44,22,44,55,22],\n",
    "    'Income':['Low','Low','High','Medium','Medium','High']})"
   ]
  },
  {
   "cell_type": "code",
   "execution_count": null,
   "metadata": {},
   "outputs": [],
   "source": [
    "df"
   ]
  },
  {
   "cell_type": "code",
   "execution_count": null,
   "metadata": {},
   "outputs": [],
   "source": [
    "df['income_encoded'] = df.Income.map({'Low':1,'Medium':2,'High':3})"
   ]
  },
  {
   "cell_type": "code",
   "execution_count": null,
   "metadata": {},
   "outputs": [],
   "source": [
    "df"
   ]
  },
  {
   "cell_type": "markdown",
   "metadata": {},
   "source": [
    "#### PS: We can use transformer class for this as well, we will see that later"
   ]
  },
  {
   "cell_type": "code",
   "execution_count": null,
   "metadata": {},
   "outputs": [],
   "source": []
  },
  {
   "cell_type": "markdown",
   "metadata": {},
   "source": [
    "#### Encoding Nominal Values\n",
    "* Nominal Values - Male, Female. No relationship between data\n",
    "* One Hot Encoding for converting data into one-hot vector"
   ]
  },
  {
   "cell_type": "code",
   "execution_count": null,
   "metadata": {},
   "outputs": [],
   "source": [
    "df = pd.DataFrame({\n",
    "    'Age':[33,44,22,44,55,22],\n",
    "    'Gender':['Male','Female','Male','Female','Male','Male']})"
   ]
  },
  {
   "cell_type": "code",
   "execution_count": null,
   "metadata": {},
   "outputs": [],
   "source": [
    "df.Gender.unique()"
   ]
  },
  {
   "cell_type": "code",
   "execution_count": null,
   "metadata": {},
   "outputs": [],
   "source": [
    "from sklearn.preprocessing import LabelEncoder,OneHotEncoder"
   ]
  },
  {
   "cell_type": "code",
   "execution_count": null,
   "metadata": {},
   "outputs": [],
   "source": [
    "le = LabelEncoder()\n",
    "df['gender_tf'] = le.fit_transform(df.Gender)"
   ]
  },
  {
   "cell_type": "code",
   "execution_count": null,
   "metadata": {},
   "outputs": [],
   "source": [
    "df"
   ]
  },
  {
   "cell_type": "code",
   "execution_count": null,
   "metadata": {},
   "outputs": [],
   "source": [
    "ohe = OneHotEncoder()\n",
    "ohe.fit_transform(df[['gender_tf']]).toarray()"
   ]
  },
  {
   "cell_type": "code",
   "execution_count": null,
   "metadata": {},
   "outputs": [],
   "source": [
    "df"
   ]
  },
  {
   "cell_type": "code",
   "execution_count": null,
   "metadata": {},
   "outputs": [],
   "source": [
    "pd.get_dummies(df, columns=['Gender'])"
   ]
  },
  {
   "cell_type": "code",
   "execution_count": null,
   "metadata": {},
   "outputs": [],
   "source": []
  },
  {
   "cell_type": "code",
   "execution_count": null,
   "metadata": {},
   "outputs": [],
   "source": [
    "df = pd.DataFrame({\n",
    "    'Age':[33,44,22,44,55,22],\n",
    "    'Income':['Low','Low','High','Medium','Medium','High']})"
   ]
  },
  {
   "cell_type": "code",
   "execution_count": null,
   "metadata": {},
   "outputs": [],
   "source": [
    "df.Income.str.get_dummies()"
   ]
  },
  {
   "cell_type": "code",
   "execution_count": null,
   "metadata": {},
   "outputs": [],
   "source": [
    "pd.get_dummies(df['Income'])"
   ]
  },
  {
   "cell_type": "code",
   "execution_count": null,
   "metadata": {},
   "outputs": [],
   "source": []
  },
  {
   "cell_type": "code",
   "execution_count": null,
   "metadata": {},
   "outputs": [],
   "source": []
  },
  {
   "cell_type": "code",
   "execution_count": null,
   "metadata": {},
   "outputs": [],
   "source": []
  },
  {
   "cell_type": "code",
   "execution_count": null,
   "metadata": {},
   "outputs": [],
   "source": []
  },
  {
   "cell_type": "code",
   "execution_count": 13,
   "metadata": {},
   "outputs": [],
   "source": [
    "from sklearn.datasets import fetch_openml # library for datasets\n",
    "\n",
    "mnist = fetch_openml('mnist_784') # loading MNIST dataset\n"
   ]
  },
  {
   "cell_type": "code",
   "execution_count": 14,
   "metadata": {},
   "outputs": [
    {
     "data": {
      "text/plain": [
       "dict_keys(['data', 'target', 'frame', 'categories', 'feature_names', 'target_names', 'DESCR', 'details', 'url'])"
      ]
     },
     "execution_count": 14,
     "metadata": {},
     "output_type": "execute_result"
    }
   ],
   "source": [
    "mnist.keys()"
   ]
  },
  {
   "cell_type": "code",
   "execution_count": 15,
   "metadata": {
    "scrolled": true
   },
   "outputs": [
    {
     "name": "stdout",
     "output_type": "stream",
     "text": [
      "**Author**: Yann LeCun, Corinna Cortes, Christopher J.C. Burges  \n",
      "**Source**: [MNIST Website](http://yann.lecun.com/exdb/mnist/) - Date unknown  \n",
      "**Please cite**:  \n",
      "\n",
      "The MNIST database of handwritten digits with 784 features, raw data available at: http://yann.lecun.com/exdb/mnist/. It can be split in a training set of the first 60,000 examples, and a test set of 10,000 examples  \n",
      "\n",
      "It is a subset of a larger set available from NIST. The digits have been size-normalized and centered in a fixed-size image. It is a good database for people who want to try learning techniques and pattern recognition methods on real-world data while spending minimal efforts on preprocessing and formatting. The original black and white (bilevel) images from NIST were size normalized to fit in a 20x20 pixel box while preserving their aspect ratio. The resulting images contain grey levels as a result of the anti-aliasing technique used by the normalization algorithm. the images were centered in a 28x28 image by computing the center of mass of the pixels, and translating the image so as to position this point at the center of the 28x28 field.  \n",
      "\n",
      "With some classification methods (particularly template-based methods, such as SVM and K-nearest neighbors), the error rate improves when the digits are centered by bounding box rather than center of mass. If you do this kind of pre-processing, you should report it in your publications. The MNIST database was constructed from NIST's NIST originally designated SD-3 as their training set and SD-1 as their test set. However, SD-3 is much cleaner and easier to recognize than SD-1. The reason for this can be found on the fact that SD-3 was collected among Census Bureau employees, while SD-1 was collected among high-school students. Drawing sensible conclusions from learning experiments requires that the result be independent of the choice of training set and test among the complete set of samples. Therefore it was necessary to build a new database by mixing NIST's datasets.  \n",
      "\n",
      "The MNIST training set is composed of 30,000 patterns from SD-3 and 30,000 patterns from SD-1. Our test set was composed of 5,000 patterns from SD-3 and 5,000 patterns from SD-1. The 60,000 pattern training set contained examples from approximately 250 writers. We made sure that the sets of writers of the training set and test set were disjoint. SD-1 contains 58,527 digit images written by 500 different writers. In contrast to SD-3, where blocks of data from each writer appeared in sequence, the data in SD-1 is scrambled. Writer identities for SD-1 is available and we used this information to unscramble the writers. We then split SD-1 in two: characters written by the first 250 writers went into our new training set. The remaining 250 writers were placed in our test set. Thus we had two sets with nearly 30,000 examples each. The new training set was completed with enough examples from SD-3, starting at pattern # 0, to make a full set of 60,000 training patterns. Similarly, the new test set was completed with SD-3 examples starting at pattern # 35,000 to make a full set with 60,000 test patterns. Only a subset of 10,000 test images (5,000 from SD-1 and 5,000 from SD-3) is available on this site. The full 60,000 sample training set is available.\n",
      "\n",
      "Downloaded from openml.org.\n"
     ]
    }
   ],
   "source": [
    "print(mnist['DESCR'])"
   ]
  },
  {
   "cell_type": "code",
   "execution_count": 16,
   "metadata": {},
   "outputs": [
    {
     "data": {
      "text/plain": [
       "(70000, 784)"
      ]
     },
     "execution_count": 16,
     "metadata": {},
     "output_type": "execute_result"
    }
   ],
   "source": [
    "mnist['data'].shape"
   ]
  },
  {
   "cell_type": "code",
   "execution_count": 17,
   "metadata": {},
   "outputs": [
    {
     "data": {
      "text/plain": [
       "(70000,)"
      ]
     },
     "execution_count": 17,
     "metadata": {},
     "output_type": "execute_result"
    }
   ],
   "source": [
    "mnist['target'].shape"
   ]
  },
  {
   "cell_type": "code",
   "execution_count": 18,
   "metadata": {},
   "outputs": [],
   "source": [
    "x = mnist['data']"
   ]
  },
  {
   "cell_type": "code",
   "execution_count": 19,
   "metadata": {},
   "outputs": [
    {
     "data": {
      "text/plain": [
       "(70000, 784)"
      ]
     },
     "execution_count": 19,
     "metadata": {},
     "output_type": "execute_result"
    }
   ],
   "source": [
    "x.shape"
   ]
  },
  {
   "cell_type": "code",
   "execution_count": 20,
   "metadata": {},
   "outputs": [
    {
     "data": {
      "text/plain": [
       "array([[0., 0., 0., ..., 0., 0., 0.],\n",
       "       [0., 0., 0., ..., 0., 0., 0.],\n",
       "       [0., 0., 0., ..., 0., 0., 0.],\n",
       "       ...,\n",
       "       [0., 0., 0., ..., 0., 0., 0.],\n",
       "       [0., 0., 0., ..., 0., 0., 0.],\n",
       "       [0., 0., 0., ..., 0., 0., 0.]])"
      ]
     },
     "execution_count": 20,
     "metadata": {},
     "output_type": "execute_result"
    }
   ],
   "source": [
    "x"
   ]
  },
  {
   "cell_type": "code",
   "execution_count": 21,
   "metadata": {},
   "outputs": [],
   "source": [
    "from matplotlib import pyplot as plt"
   ]
  },
  {
   "cell_type": "code",
   "execution_count": 27,
   "metadata": {},
   "outputs": [
    {
     "data": {
      "text/plain": [
       "<matplotlib.image.AxesImage at 0x7f82c42359d0>"
      ]
     },
     "execution_count": 27,
     "metadata": {},
     "output_type": "execute_result"
    },
    {
     "data": {
      "image/png": "[encoded data removed]",
      "text/plain": [
       "<Figure size 432x288 with 1 Axes>"
      ]
     },
     "metadata": {
      "needs_background": "light"
     },
     "output_type": "display_data"
    }
   ],
   "source": [
    "plt.imshow(x[5].reshape(28,28), cmap='gray')"
   ]
  },
  {
   "cell_type": "code",
   "execution_count": 28,
   "metadata": {},
   "outputs": [
    {
     "data": {
      "text/plain": [
       "'2'"
      ]
     },
     "execution_count": 28,
     "metadata": {},
     "output_type": "execute_result"
    }
   ],
   "source": [
    "mnist['target'][5]"
   ]
  },
  {
   "cell_type": "code",
   "execution_count": 29,
   "metadata": {},
   "outputs": [],
   "source": [
    "from sklearn.preprocessing import StandardScaler"
   ]
  },
  {
   "cell_type": "code",
   "execution_count": 30,
   "metadata": {},
   "outputs": [],
   "source": [
    "sc = StandardScaler()"
   ]
  },
  {
   "cell_type": "code",
   "execution_count": 31,
   "metadata": {},
   "outputs": [],
   "source": [
    "x_std = sc.fit_transform(x)"
   ]
  },
  {
   "cell_type": "code",
   "execution_count": 32,
   "metadata": {},
   "outputs": [
    {
     "data": {
      "text/plain": [
       "(70000, 784)"
      ]
     },
     "execution_count": 32,
     "metadata": {},
     "output_type": "execute_result"
    }
   ],
   "source": [
    "x_std.shape"
   ]
  },
  {
   "cell_type": "code",
   "execution_count": 33,
   "metadata": {},
   "outputs": [],
   "source": [
    "from sklearn.decomposition import PCA"
   ]
  },
  {
   "cell_type": "code",
   "execution_count": 34,
   "metadata": {},
   "outputs": [],
   "source": [
    "pca = PCA()"
   ]
  },
  {
   "cell_type": "code",
   "execution_count": 35,
   "metadata": {},
   "outputs": [
    {
     "data": {
      "text/plain": [
       "PCA()"
      ]
     },
     "execution_count": 35,
     "metadata": {},
     "output_type": "execute_result"
    }
   ],
   "source": [
    "pca.fit(x_std)"
   ]
  },
  {
   "cell_type": "code",
   "execution_count": 36,
   "metadata": {},
   "outputs": [
    {
     "data": {
      "text/plain": [
       "array([5.64271890e-02, 4.04122588e-02, 3.73827333e-02, 2.89299967e-02,\n",
       "       2.52075176e-02, 2.19254904e-02, 1.91428200e-02, 1.74068380e-02,\n",
       "       1.53223192e-02, 1.39608655e-02, 1.34217502e-02, 1.20142136e-02,\n",
       "       1.11396188e-02, 1.09058166e-02, 1.02798565e-02, 9.94954818e-03,\n",
       "       9.31255447e-03, 9.19634749e-03, 8.88599812e-03, 8.63195357e-03,\n",
       "       8.21741429e-03, 7.98416580e-03, 7.62572887e-03, 7.42315294e-03,\n",
       "       7.16569784e-03, 6.89313988e-03, 6.81399054e-03, 6.54587652e-03,\n",
       "       6.27293368e-03, 6.10345345e-03, 5.97260805e-03, 5.89303875e-03,\n",
       "       5.67358491e-03, 5.59357597e-03, 5.52473105e-03, 5.34443453e-03,\n",
       "       5.27593434e-03, 5.15841172e-03, 5.05498061e-03, 4.77437784e-03,\n",
       "       4.76312011e-03, 4.65154837e-03, 4.53454310e-03, 4.45757102e-03,\n",
       "       4.42312508e-03, 4.37877290e-03, 4.37293648e-03, 4.27723692e-03,\n",
       "       4.24807888e-03, 4.18523984e-03, 4.04059497e-03, 3.96258302e-03,\n",
       "       3.93175520e-03, 3.90561562e-03, 3.86443636e-03, 3.77500874e-03,\n",
       "       3.73882776e-03, 3.68328451e-03, 3.60376886e-03, 3.56369533e-03,\n",
       "       3.49288565e-03, 3.44527400e-03, 3.43238797e-03, 3.40999789e-03,\n",
       "       3.34463427e-03, 3.32107278e-03, 3.29803237e-03, 3.19433128e-03,\n",
       "       3.17109847e-03, 3.15431216e-03, 3.09940692e-03, 3.05782213e-03,\n",
       "       3.05095386e-03, 3.03960430e-03, 2.96634548e-03, 2.92957769e-03,\n",
       "       2.91295177e-03, 2.90232456e-03, 2.88608315e-03, 2.87021809e-03,\n",
       "       2.84514495e-03, 2.81523948e-03, 2.79244643e-03, 2.78629327e-03,\n",
       "       2.78232823e-03, 2.76732768e-03, 2.75419880e-03, 2.72901182e-03,\n",
       "       2.68739705e-03, 2.68138665e-03, 2.67354465e-03, 2.63003129e-03,\n",
       "       2.62154625e-03, 2.58872121e-03, 2.58428890e-03, 2.57099877e-03,\n",
       "       2.51899615e-03, 2.50903962e-03, 2.48093637e-03, 2.44092479e-03,\n",
       "       2.43607388e-03, 2.41671291e-03, 2.38998862e-03, 2.36394489e-03,\n",
       "       2.35632294e-03, 2.32325931e-03, 2.29150647e-03, 2.25292392e-03,\n",
       "       2.23890823e-03, 2.23220136e-03, 2.19713535e-03, 2.19025774e-03,\n",
       "       2.15302794e-03, 2.13446727e-03, 2.10763114e-03, 2.10123385e-03,\n",
       "       2.06525182e-03, 2.05073001e-03, 2.02905625e-03, 1.98907275e-03,\n",
       "       1.97597384e-03, 1.96587825e-03, 1.95393761e-03, 1.94545299e-03,\n",
       "       1.92833719e-03, 1.91505128e-03, 1.89259781e-03, 1.88400400e-03,\n",
       "       1.86304259e-03, 1.81890014e-03, 1.80675538e-03, 1.79008574e-03,\n",
       "       1.78407071e-03, 1.76998521e-03, 1.75852488e-03, 1.74780272e-03,\n",
       "       1.73303762e-03, 1.72800463e-03, 1.69432572e-03, 1.67647665e-03,\n",
       "       1.65855042e-03, 1.64975449e-03, 1.64602540e-03, 1.64149385e-03,\n",
       "       1.61138401e-03, 1.60413215e-03, 1.58926668e-03, 1.56600855e-03,\n",
       "       1.56230527e-03, 1.54815007e-03, 1.53566116e-03, 1.52616879e-03,\n",
       "       1.51562131e-03, 1.49189363e-03, 1.48880393e-03, 1.47098209e-03,\n",
       "       1.46273885e-03, 1.44915762e-03, 1.44201670e-03, 1.42794935e-03,\n",
       "       1.42245085e-03, 1.42043176e-03, 1.40015943e-03, 1.39306127e-03,\n",
       "       1.39149346e-03, 1.39049023e-03, 1.38895479e-03, 1.38616380e-03,\n",
       "       1.38450922e-03, 1.36449336e-03, 1.35787032e-03, 1.35150548e-03,\n",
       "       1.34899704e-03, 1.33796529e-03, 1.32635451e-03, 1.31348857e-03,\n",
       "       1.29856539e-03, 1.29275199e-03, 1.28703358e-03, 1.27086749e-03,\n",
       "       1.26383842e-03, 1.25840581e-03, 1.23503570e-03, 1.22146544e-03,\n",
       "       1.21683155e-03, 1.21134582e-03, 1.19986882e-03, 1.19590311e-03,\n",
       "       1.17699471e-03, 1.17216314e-03, 1.16485697e-03, 1.15194165e-03,\n",
       "       1.14868519e-03, 1.14259154e-03, 1.13338629e-03, 1.12362560e-03,\n",
       "       1.10979718e-03, 1.08570494e-03, 1.08127664e-03, 1.06264285e-03,\n",
       "       1.05589182e-03, 1.04707394e-03, 1.04297083e-03, 1.02776448e-03,\n",
       "       1.01473047e-03, 1.00924174e-03, 9.99157489e-04, 9.93364064e-04,\n",
       "       9.88825836e-04, 9.75170473e-04, 9.68587136e-04, 9.62890198e-04,\n",
       "       9.54182380e-04, 9.45742582e-04, 9.43453334e-04, 9.35921787e-04,\n",
       "       9.27432367e-04, 9.09776154e-04, 9.02472038e-04, 8.91224780e-04,\n",
       "       8.81096475e-04, 8.76774919e-04, 8.71146958e-04, 8.66391691e-04,\n",
       "       8.58102268e-04, 8.52872520e-04, 8.40261765e-04, 8.29303675e-04,\n",
       "       8.23253066e-04, 8.18864778e-04, 8.15043486e-04, 8.08891889e-04,\n",
       "       8.05339339e-04, 7.99008609e-04, 7.87714424e-04, 7.81224144e-04,\n",
       "       7.77328879e-04, 7.71508975e-04, 7.56419832e-04, 7.51391621e-04,\n",
       "       7.47557376e-04, 7.39042806e-04, 7.34463129e-04, 7.27446053e-04,\n",
       "       7.21315921e-04, 7.11683406e-04, 7.02535851e-04, 7.00715265e-04,\n",
       "       6.95802921e-04, 6.87943682e-04, 6.82615453e-04, 6.79361143e-04,\n",
       "       6.76212533e-04, 6.63194197e-04, 6.60423360e-04, 6.59282913e-04,\n",
       "       6.52767545e-04, 6.39433575e-04, 6.37718077e-04, 6.35923332e-04,\n",
       "       6.30700456e-04, 6.26323805e-04, 6.18632390e-04, 6.16573609e-04,\n",
       "       6.08557856e-04, 6.04344966e-04, 5.98432070e-04, 5.87242749e-04,\n",
       "       5.80849729e-04, 5.75997287e-04, 5.73148681e-04, 5.70710825e-04,\n",
       "       5.64591946e-04, 5.60255625e-04, 5.57143085e-04, 5.49517922e-04,\n",
       "       5.47102637e-04, 5.44037655e-04, 5.41583576e-04, 5.38493061e-04,\n",
       "       5.35981561e-04, 5.26516168e-04, 5.24872766e-04, 5.17991610e-04,\n",
       "       5.14990397e-04, 5.12523321e-04, 5.05780167e-04, 5.02376443e-04,\n",
       "       4.98638806e-04, 4.96241457e-04, 4.94402983e-04, 4.91124847e-04,\n",
       "       4.81778007e-04, 4.78468425e-04, 4.76507109e-04, 4.75515561e-04,\n",
       "       4.71468042e-04, 4.60907628e-04, 4.58252437e-04, 4.49774124e-04,\n",
       "       4.48412031e-04, 4.47906678e-04, 4.42986799e-04, 4.38796277e-04,\n",
       "       4.37260059e-04, 4.32608318e-04, 4.30357660e-04, 4.22795791e-04,\n",
       "       4.19568488e-04, 4.16825684e-04, 4.15424051e-04, 4.12353334e-04,\n",
       "       4.10917914e-04, 4.08943222e-04, 4.07555879e-04, 4.02249938e-04,\n",
       "       3.99771531e-04, 3.96714615e-04, 3.91647405e-04, 3.89177379e-04,\n",
       "       3.87571917e-04, 3.86600301e-04, 3.82746347e-04, 3.78742264e-04,\n",
       "       3.78180061e-04, 3.74673333e-04, 3.71776835e-04, 3.69960562e-04,\n",
       "       3.66694328e-04, 3.60987299e-04, 3.59118031e-04, 3.58488825e-04,\n",
       "       3.56933171e-04, 3.55453373e-04, 3.54223918e-04, 3.51864565e-04,\n",
       "       3.49598277e-04, 3.45894572e-04, 3.44766140e-04, 3.40478535e-04,\n",
       "       3.36086741e-04, 3.33360029e-04, 3.31881477e-04, 3.28928620e-04,\n",
       "       3.24266052e-04, 3.20311394e-04, 3.19392725e-04, 3.17160460e-04,\n",
       "       3.13127696e-04, 3.11447475e-04, 3.10496007e-04, 3.08678446e-04,\n",
       "       3.06288661e-04, 3.05018210e-04, 3.02773107e-04, 2.99430260e-04,\n",
       "       2.98523224e-04, 2.96217404e-04, 2.90214489e-04, 2.88953810e-04,\n",
       "       2.86386613e-04, 2.85106568e-04, 2.83474452e-04, 2.81996185e-04,\n",
       "       2.80667791e-04, 2.79835172e-04, 2.77868690e-04, 2.75401624e-04,\n",
       "       2.74752840e-04, 2.74199102e-04, 2.69301826e-04, 2.67279439e-04,\n",
       "       2.65635616e-04, 2.64834070e-04, 2.61167558e-04, 2.59146126e-04,\n",
       "       2.57430792e-04, 2.56513241e-04, 2.52948624e-04, 2.49762409e-04,\n",
       "       2.47885727e-04, 2.47610547e-04, 2.45498032e-04, 2.44019325e-04,\n",
       "       2.42504518e-04, 2.41348118e-04, 2.39846487e-04, 2.37479015e-04,\n",
       "       2.35952484e-04, 2.35380059e-04, 2.32878608e-04, 2.31979436e-04,\n",
       "       2.31240254e-04, 2.28789097e-04, 2.28085678e-04, 2.26727971e-04,\n",
       "       2.25598467e-04, 2.25120567e-04, 2.22683079e-04, 2.21177192e-04,\n",
       "       2.18765882e-04, 2.17770657e-04, 2.16081102e-04, 2.15149399e-04,\n",
       "       2.14540286e-04, 2.13430643e-04, 2.10148511e-04, 2.09847706e-04,\n",
       "       2.09024024e-04, 2.06475480e-04, 2.05400417e-04, 2.04100340e-04,\n",
       "       2.02147523e-04, 2.00083559e-04, 1.98354703e-04, 1.98127426e-04,\n",
       "       1.96817291e-04, 1.95955479e-04, 1.94392540e-04, 1.91319348e-04,\n",
       "       1.90451973e-04, 1.89869860e-04, 1.87884456e-04, 1.87099184e-04,\n",
       "       1.86210102e-04, 1.85593575e-04, 1.83300543e-04, 1.82300049e-04,\n",
       "       1.81006474e-04, 1.80061297e-04, 1.78301916e-04, 1.77813300e-04,\n",
       "       1.76094268e-04, 1.75686065e-04, 1.74691475e-04, 1.73852745e-04,\n",
       "       1.72980610e-04, 1.72467335e-04, 1.70736008e-04, 1.70120955e-04,\n",
       "       1.68873982e-04, 1.68074888e-04, 1.66138665e-04, 1.65346692e-04,\n",
       "       1.64813446e-04, 1.64177881e-04, 1.63558999e-04, 1.62166063e-04,\n",
       "       1.60745553e-04, 1.59364722e-04, 1.58100733e-04, 1.56025070e-04,\n",
       "       1.54947626e-04, 1.54284003e-04, 1.53934830e-04, 1.53215133e-04,\n",
       "       1.51986682e-04, 1.51109072e-04, 1.50662319e-04, 1.49523818e-04,\n",
       "       1.48967413e-04, 1.48298170e-04, 1.47605774e-04, 1.46947833e-04,\n",
       "       1.44920882e-04, 1.43430420e-04, 1.43208118e-04, 1.42250201e-04,\n",
       "       1.41287045e-04, 1.40828919e-04, 1.40294414e-04, 1.39520207e-04,\n",
       "       1.39020331e-04, 1.37780482e-04, 1.37628563e-04, 1.36606415e-04,\n",
       "       1.36040619e-04, 1.34189105e-04, 1.34021519e-04, 1.32686822e-04,\n",
       "       1.31982237e-04, 1.31496651e-04, 1.30549223e-04, 1.30218342e-04,\n",
       "       1.29695328e-04, 1.29125343e-04, 1.28177879e-04, 1.27526159e-04,\n",
       "       1.26853146e-04, 1.26472055e-04, 1.25469158e-04, 1.24791359e-04,\n",
       "       1.24176336e-04, 1.22622027e-04, 1.22452531e-04, 1.21878763e-04,\n",
       "       1.21355202e-04, 1.20543700e-04, 1.20105771e-04, 1.19322596e-04,\n",
       "       1.18501040e-04, 1.17739476e-04, 1.17593155e-04, 1.16898819e-04,\n",
       "       1.16359033e-04, 1.15791826e-04, 1.14866001e-04, 1.14223404e-04,\n",
       "       1.13969028e-04, 1.13317645e-04, 1.12927935e-04, 1.12005685e-04,\n",
       "       1.11705525e-04, 1.10837525e-04, 1.10314558e-04, 1.09557379e-04,\n",
       "       1.08728280e-04, 1.08609404e-04, 1.07815992e-04, 1.07447689e-04,\n",
       "       1.06918435e-04, 1.06750314e-04, 1.06281370e-04, 1.05905882e-04,\n",
       "       1.05363121e-04, 1.04725507e-04, 1.04094920e-04, 1.03257772e-04,\n",
       "       1.02981956e-04, 1.02543684e-04, 1.01957463e-04, 1.01151793e-04,\n",
       "       1.00858660e-04, 1.00229985e-04, 9.98237396e-05, 9.94133538e-05,\n",
       "       9.89700256e-05, 9.81537432e-05, 9.74459024e-05, 9.72255311e-05,\n",
       "       9.63763595e-05, 9.59076598e-05, 9.56585691e-05, 9.50912802e-05,\n",
       "       9.46130584e-05, 9.41297543e-05, 9.36324656e-05, 9.29303580e-05,\n",
       "       9.26932696e-05, 9.24473645e-05, 9.09682580e-05, 9.04122587e-05,\n",
       "       8.98926768e-05, 8.93051831e-05, 8.88840126e-05, 8.80943676e-05,\n",
       "       8.79827360e-05, 8.74376306e-05, 8.67216357e-05, 8.56035030e-05,\n",
       "       8.53787985e-05, 8.51957413e-05, 8.47949074e-05, 8.46331448e-05,\n",
       "       8.39881568e-05, 8.37033951e-05, 8.32844341e-05, 8.26732757e-05,\n",
       "       8.21571156e-05, 8.16187344e-05, 8.08574694e-05, 8.03903276e-05,\n",
       "       8.02290423e-05, 7.93950772e-05, 7.92047600e-05, 7.87412237e-05,\n",
       "       7.81563481e-05, 7.80052709e-05, 7.76702573e-05, 7.74316497e-05,\n",
       "       7.68058011e-05, 7.58241151e-05, 7.55879021e-05, 7.54076960e-05,\n",
       "       7.48671007e-05, 7.44487943e-05, 7.40822927e-05, 7.35009710e-05,\n",
       "       7.29907099e-05, 7.26205994e-05, 7.22596724e-05, 7.16753300e-05,\n",
       "       7.16567124e-05, 7.11683507e-05, 7.06046913e-05, 6.99045072e-05,\n",
       "       6.93361723e-05, 6.91975203e-05, 6.86451197e-05, 6.82674495e-05,\n",
       "       6.78465712e-05, 6.76005185e-05, 6.71840395e-05, 6.70733241e-05,\n",
       "       6.68046887e-05, 6.64877293e-05, 6.56531472e-05, 6.55976811e-05,\n",
       "       6.50859971e-05, 6.49980025e-05, 6.44813757e-05, 6.39229234e-05,\n",
       "       6.32480095e-05, 6.31795275e-05, 6.27444512e-05, 6.20371050e-05,\n",
       "       6.16362257e-05, 6.14927926e-05, 6.10310858e-05, 6.09270079e-05,\n",
       "       6.05712869e-05, 6.03275510e-05, 5.99022051e-05, 5.94364568e-05,\n",
       "       5.90739859e-05, 5.83795417e-05, 5.81226657e-05, 5.74980965e-05,\n",
       "       5.72759436e-05, 5.70709134e-05, 5.66691848e-05, 5.63778934e-05,\n",
       "       5.62015549e-05, 5.60096638e-05, 5.56960306e-05, 5.55351469e-05,\n",
       "       5.51083489e-05, 5.46793290e-05, 5.41354476e-05, 5.39028325e-05,\n",
       "       5.34792538e-05, 5.31680604e-05, 5.27197941e-05, 5.23394687e-05,\n",
       "       5.21276147e-05, 5.17251230e-05, 5.14303729e-05, 5.08867479e-05,\n",
       "       5.07582916e-05, 5.03610419e-05, 5.02302700e-05, 5.00638068e-05,\n",
       "       4.93498703e-05, 4.91475962e-05, 4.90316792e-05, 4.84665994e-05,\n",
       "       4.84005414e-05, 4.79197609e-05, 4.74953439e-05, 4.72263706e-05,\n",
       "       4.64076303e-05, 4.61005043e-05, 4.60059484e-05, 4.56994464e-05,\n",
       "       4.52399214e-05, 4.48030439e-05, 4.44684072e-05, 4.43685348e-05,\n",
       "       4.39093797e-05, 4.35695694e-05, 4.34282478e-05, 4.30187545e-05,\n",
       "       4.27728360e-05, 4.20361477e-05, 4.18430912e-05, 4.14825448e-05,\n",
       "       4.11952433e-05, 4.09851254e-05, 4.06094511e-05, 4.02972119e-05,\n",
       "       4.00105541e-05, 3.98134790e-05, 3.93426234e-05, 3.88300624e-05,\n",
       "       3.86800812e-05, 3.83647085e-05, 3.81059343e-05, 3.77898483e-05,\n",
       "       3.74148214e-05, 3.72487784e-05, 3.65648223e-05, 3.63441013e-05,\n",
       "       3.56667232e-05, 3.56197424e-05, 3.49156597e-05, 3.46040381e-05,\n",
       "       3.41582210e-05, 3.40652668e-05, 3.37099526e-05, 3.33576392e-05,\n",
       "       3.31528615e-05, 3.28339488e-05, 3.23920005e-05, 3.20824070e-05,\n",
       "       3.10114574e-05, 3.02229992e-05, 2.99007638e-05, 2.93632500e-05,\n",
       "       2.84268923e-05, 2.62268446e-05, 2.55034976e-05, 1.99885349e-05,\n",
       "       9.99330627e-06, 2.37323410e-30, 1.29558074e-32, 5.36786443e-33,\n",
       "       5.31146224e-33, 4.38872652e-33, 2.99497143e-33, 2.79144104e-33,\n",
       "       2.66232948e-33, 2.08053031e-33, 1.49308402e-33, 1.37736475e-33,\n",
       "       1.32427216e-33, 1.09321708e-33, 9.94104615e-34, 9.04935677e-34,\n",
       "       8.89194536e-34, 8.11463176e-34, 6.82244985e-34, 6.64364037e-34,\n",
       "       4.45627406e-34, 2.57848980e-34, 2.36377098e-34, 2.36377098e-34,\n",
       "       2.36377098e-34, 2.36377098e-34, 2.36377098e-34, 2.36377098e-34,\n",
       "       2.36377098e-34, 2.36377098e-34, 2.36377098e-34, 2.36377098e-34,\n",
       "       2.36377098e-34, 2.36377098e-34, 2.36377098e-34, 2.36377098e-34,\n",
       "       2.36377098e-34, 2.36377098e-34, 2.36377098e-34, 2.36377098e-34,\n",
       "       2.36377098e-34, 2.36377098e-34, 2.36377098e-34, 2.36377098e-34,\n",
       "       2.36377098e-34, 2.36377098e-34, 2.36377098e-34, 2.36377098e-34,\n",
       "       2.36377098e-34, 2.36377098e-34, 2.36377098e-34, 2.36377098e-34,\n",
       "       2.36377098e-34, 2.36377098e-34, 2.36377098e-34, 2.36377098e-34,\n",
       "       2.36377098e-34, 2.36377098e-34, 2.36377098e-34, 2.36377098e-34,\n",
       "       2.36377098e-34, 2.36377098e-34, 2.36377098e-34, 2.36377098e-34,\n",
       "       2.36377098e-34, 2.33956392e-34, 1.51375645e-34, 1.31208647e-34,\n",
       "       8.31622831e-35, 8.18974617e-35, 2.48708033e-35, 3.12779706e-36])"
      ]
     },
     "execution_count": 36,
     "metadata": {},
     "output_type": "execute_result"
    }
   ],
   "source": [
    "pca.explained_variance_ratio_"
   ]
  },
  {
   "cell_type": "code",
   "execution_count": 37,
   "metadata": {},
   "outputs": [],
   "source": [
    "import matplotlib.pyplot as plt\n",
    "import numpy as np"
   ]
  },
  {
   "cell_type": "code",
   "execution_count": 38,
   "metadata": {
    "scrolled": true
   },
   "outputs": [
    {
     "data": {
      "text/plain": [
       "<BarContainer object of 784 artists>"
      ]
     },
     "execution_count": 38,
     "metadata": {},
     "output_type": "execute_result"
    },
    {
     "data": {
      "image/png": "[encoded data removed]",
      "text/plain": [
       "<Figure size 1440x720 with 1 Axes>"
      ]
     },
     "metadata": {
      "needs_background": "light"
     },
     "output_type": "display_data"
    }
   ],
   "source": [
    "plt.figure(figsize=(20,10))\n",
    "plt.bar(np.arange(len(pca.explained_variance_ratio_)), pca.explained_variance_ratio_)"
   ]
  },
  {
   "cell_type": "code",
   "execution_count": 39,
   "metadata": {
    "scrolled": false
   },
   "outputs": [
    {
     "data": {
      "text/plain": [
       "<BarContainer object of 784 artists>"
      ]
     },
     "execution_count": 39,
     "metadata": {},
     "output_type": "execute_result"
    },
    {
     "data": {
      "image/png": "[encoded data removed]",
      "text/plain": [
       "<Figure size 1440x720 with 1 Axes>"
      ]
     },
     "metadata": {
      "needs_background": "light"
     },
     "output_type": "display_data"
    }
   ],
   "source": [
    "plt.figure(figsize=(20,10))\n",
    "plt.bar(np.arange(len(pca.explained_variance_ratio_)), pca.explained_variance_ratio_.cumsum())"
   ]
  },
  {
   "cell_type": "code",
   "execution_count": 40,
   "metadata": {},
   "outputs": [],
   "source": [
    "var_per = pca.explained_variance_ratio_.cumsum()"
   ]
  },
  {
   "cell_type": "code",
   "execution_count": 41,
   "metadata": {},
   "outputs": [
    {
     "data": {
      "text/plain": [
       "331"
      ]
     },
     "execution_count": 41,
     "metadata": {},
     "output_type": "execute_result"
    }
   ],
   "source": [
    "len(var_per[var_per<0.95])"
   ]
  },
  {
   "cell_type": "code",
   "execution_count": 42,
   "metadata": {},
   "outputs": [],
   "source": [
    "pca = PCA(n_components = 331)"
   ]
  },
  {
   "cell_type": "code",
   "execution_count": 43,
   "metadata": {},
   "outputs": [],
   "source": [
    "x_trf = pca.fit_transform(x_std)"
   ]
  },
  {
   "cell_type": "code",
   "execution_count": 44,
   "metadata": {},
   "outputs": [
    {
     "data": {
      "text/plain": [
       "(70000, 331)"
      ]
     },
     "execution_count": 44,
     "metadata": {},
     "output_type": "execute_result"
    }
   ],
   "source": [
    "x_trf.shape"
   ]
  },
  {
   "cell_type": "code",
   "execution_count": null,
   "metadata": {},
   "outputs": [],
   "source": []
  },
  {
   "cell_type": "code",
   "execution_count": null,
   "metadata": {},
   "outputs": [],
   "source": []
  },
  {
   "cell_type": "code",
   "execution_count": null,
   "metadata": {},
   "outputs": [],
   "source": [
    "x.shape"
   ]
  },
  {
   "cell_type": "code",
   "execution_count": null,
   "metadata": {
    "scrolled": true
   },
   "outputs": [],
   "source": [
    "y.shape"
   ]
  },
  {
   "cell_type": "code",
   "execution_count": null,
   "metadata": {},
   "outputs": [],
   "source": [
    "y"
   ]
  },
  {
   "cell_type": "code",
   "execution_count": null,
   "metadata": {},
   "outputs": [],
   "source": []
  },
  {
   "cell_type": "code",
   "execution_count": null,
   "metadata": {},
   "outputs": [],
   "source": []
  },
  {
   "cell_type": "code",
   "execution_count": null,
   "metadata": {},
   "outputs": [],
   "source": []
  },
  {
   "cell_type": "code",
   "execution_count": null,
   "metadata": {},
   "outputs": [],
   "source": []
  },
  {
   "cell_type": "code",
   "execution_count": null,
   "metadata": {},
   "outputs": [],
   "source": []
  },
  {
   "cell_type": "code",
   "execution_count": null,
   "metadata": {},
   "outputs": [],
   "source": []
  },
  {
   "cell_type": "code",
   "execution_count": null,
   "metadata": {},
   "outputs": [],
   "source": []
  },
  {
   "cell_type": "code",
   "execution_count": null,
   "metadata": {},
   "outputs": [],
   "source": []
  },
  {
   "cell_type": "code",
   "execution_count": null,
   "metadata": {},
   "outputs": [],
   "source": []
  },
  {
   "cell_type": "code",
   "execution_count": null,
   "metadata": {},
   "outputs": [],
   "source": []
  },
  {
   "cell_type": "code",
   "execution_count": null,
   "metadata": {},
   "outputs": [],
   "source": []
  },
  {
   "cell_type": "code",
   "execution_count": null,
   "metadata": {},
   "outputs": [],
   "source": []
  },
  {
   "cell_type": "code",
   "execution_count": null,
   "metadata": {},
   "outputs": [],
   "source": []
  },
  {
   "cell_type": "code",
   "execution_count": null,
   "metadata": {},
   "outputs": [],
   "source": []
  },
  {
   "cell_type": "code",
   "execution_count": null,
   "metadata": {},
   "outputs": [],
   "source": [
    "from sklearn.decomposition import PCA as sklearnPCA"
   ]
  },
  {
   "cell_type": "code",
   "execution_count": null,
   "metadata": {},
   "outputs": [],
   "source": [
    "pca = sklearnPCA(n_components=0.95)"
   ]
  },
  {
   "cell_type": "code",
   "execution_count": null,
   "metadata": {},
   "outputs": [],
   "source": []
  },
  {
   "cell_type": "code",
   "execution_count": null,
   "metadata": {},
   "outputs": [],
   "source": []
  },
  {
   "cell_type": "code",
   "execution_count": null,
   "metadata": {},
   "outputs": [],
   "source": []
  },
  {
   "cell_type": "code",
   "execution_count": null,
   "metadata": {
    "scrolled": false
   },
   "outputs": [],
   "source": [
    "from sklearn.preprocessing import StandardScaler\n",
    "from sklearn.decomposition import PCA as sklearnPCA\n",
    "import matplotlib.pyplot as plt\n",
    "import numpy as np\n",
    "\n",
    "#standardized data\n",
    "sc = StandardScaler()\n",
    "sc.fit(x)\n",
    "X_std = sc.transform(x)\n",
    "\n",
    "#If n_components is not set then all components are stored \n",
    "pca = sklearnPCA()\n",
    "sklearn_pca = pca.fit(X_std)\n",
    "\n",
    "var_per = sklearn_pca.explained_variance_ratio_\n",
    "cum_var_per = sklearn_pca.explained_variance_ratio_.cumsum()\n",
    "\n",
    "plt.figure(figsize=(30,10))\n",
    "ind = np.arange(len(var_per)) \n",
    "plt.bar(ind,var_per)\n",
    "plt.xlabel('n_components')\n",
    "plt.ylabel('Variance')"
   ]
  },
  {
   "cell_type": "code",
   "execution_count": null,
   "metadata": {},
   "outputs": [],
   "source": [
    "plt.figure(figsize=(30,10))\n",
    "ind = np.arange(len(cum_var_per)) \n",
    "plt.bar(ind,cum_var_per)\n",
    "plt.xlabel('n_components')\n",
    "plt.ylabel('Variance')"
   ]
  },
  {
   "cell_type": "code",
   "execution_count": null,
   "metadata": {},
   "outputs": [],
   "source": [
    "len(cum_var_per[cum_var_per < 0.95])"
   ]
  },
  {
   "cell_type": "code",
   "execution_count": null,
   "metadata": {},
   "outputs": [],
   "source": [
    "pca = sklearnPCA(n_components = len(cum_var_per[cum_var_per < 0.95]))\n",
    "X_trans = pca.fit_transform(X_std)"
   ]
  },
  {
   "cell_type": "code",
   "execution_count": null,
   "metadata": {},
   "outputs": [],
   "source": [
    "X_trans.shape"
   ]
  },
  {
   "cell_type": "code",
   "execution_count": null,
   "metadata": {},
   "outputs": [],
   "source": []
  },
  {
   "cell_type": "code",
   "execution_count": null,
   "metadata": {},
   "outputs": [],
   "source": []
  },
  {
   "cell_type": "code",
   "execution_count": null,
   "metadata": {},
   "outputs": [],
   "source": []
  },
  {
   "cell_type": "code",
   "execution_count": null,
   "metadata": {},
   "outputs": [],
   "source": []
  },
  {
   "cell_type": "code",
   "execution_count": null,
   "metadata": {},
   "outputs": [],
   "source": []
  },
  {
   "cell_type": "code",
   "execution_count": null,
   "metadata": {},
   "outputs": [],
   "source": []
  },
  {
   "cell_type": "code",
   "execution_count": null,
   "metadata": {},
   "outputs": [],
   "source": []
  },
  {
   "cell_type": "code",
   "execution_count": null,
   "metadata": {},
   "outputs": [],
   "source": []
  },
  {
   "cell_type": "code",
   "execution_count": null,
   "metadata": {},
   "outputs": [],
   "source": []
  },
  {
   "cell_type": "code",
   "execution_count": null,
   "metadata": {},
   "outputs": [],
   "source": []
  },
  {
   "cell_type": "code",
   "execution_count": null,
   "metadata": {},
   "outputs": [],
   "source": []
  },
  {
   "cell_type": "code",
   "execution_count": null,
   "metadata": {},
   "outputs": [],
   "source": [
    "from sklearn.datasets import fetch_openml # library for datasets\n",
    "\n",
    "mnist = fetch_openml('mnist_784') # loading MNIST dataset\n"
   ]
  },
  {
   "cell_type": "code",
   "execution_count": null,
   "metadata": {},
   "outputs": [],
   "source": [
    "mnist.keys()"
   ]
  },
  {
   "cell_type": "code",
   "execution_count": 46,
   "metadata": {},
   "outputs": [],
   "source": [
    "x = mnist['data']"
   ]
  },
  {
   "cell_type": "code",
   "execution_count": 47,
   "metadata": {},
   "outputs": [],
   "source": [
    "y = mnist['target']"
   ]
  },
  {
   "cell_type": "code",
   "execution_count": 48,
   "metadata": {},
   "outputs": [],
   "source": [
    "from sklearn.preprocessing import StandardScaler"
   ]
  },
  {
   "cell_type": "code",
   "execution_count": 49,
   "metadata": {},
   "outputs": [],
   "source": [
    "sc = StandardScaler()"
   ]
  },
  {
   "cell_type": "code",
   "execution_count": 50,
   "metadata": {},
   "outputs": [],
   "source": [
    "x_std = sc.fit_transform(x)"
   ]
  },
  {
   "cell_type": "code",
   "execution_count": 51,
   "metadata": {},
   "outputs": [
    {
     "data": {
      "text/plain": [
       "(70000, 784)"
      ]
     },
     "execution_count": 51,
     "metadata": {},
     "output_type": "execute_result"
    }
   ],
   "source": [
    "x_std.shape"
   ]
  },
  {
   "cell_type": "code",
   "execution_count": 52,
   "metadata": {},
   "outputs": [],
   "source": [
    "from sklearn.discriminant_analysis import LinearDiscriminantAnalysis\n",
    "lda = LinearDiscriminantAnalysis()\n",
    "sklearn_lda = lda.fit(x_std, y)\n",
    "\n",
    "var_per = sklearn_lda.explained_variance_ratio_\n",
    "cum_var_per = sklearn_lda.explained_variance_ratio_.cumsum()\n"
   ]
  },
  {
   "cell_type": "code",
   "execution_count": 53,
   "metadata": {},
   "outputs": [
    {
     "data": {
      "text/plain": [
       "array([0.23718291, 0.44064934, 0.617996  , 0.72502353, 0.81942663,\n",
       "       0.88849806, 0.93862739, 0.97309696, 1.        ])"
      ]
     },
     "execution_count": 53,
     "metadata": {},
     "output_type": "execute_result"
    }
   ],
   "source": [
    "cum_var_per"
   ]
  },
  {
   "cell_type": "code",
   "execution_count": 54,
   "metadata": {},
   "outputs": [
    {
     "data": {
      "text/plain": [
       "7"
      ]
     },
     "execution_count": 54,
     "metadata": {},
     "output_type": "execute_result"
    }
   ],
   "source": [
    "len(cum_var_per[cum_var_per < 0.95])"
   ]
  },
  {
   "cell_type": "code",
   "execution_count": 55,
   "metadata": {},
   "outputs": [
    {
     "data": {
      "text/plain": [
       "array([[-0.9815313 , -0.60674231, -1.65255425, ...,  0.73096093,\n",
       "         1.78688392, -0.96866992],\n",
       "       [-3.05892432, -3.05284985, -2.88173559, ...,  0.43035835,\n",
       "        -0.90883765, -0.17645317],\n",
       "       [ 1.85791007, -0.05752316,  1.11624349, ...,  2.04871221,\n",
       "         1.71002227,  2.87380323],\n",
       "       ...,\n",
       "       [ 3.12523695, -0.84419027,  2.06665897, ..., -0.06651955,\n",
       "         0.28546004,  0.44446854],\n",
       "       [-0.92950977,  0.79599839, -1.4049491 , ..., -2.09722096,\n",
       "         2.56354996,  0.02696681],\n",
       "       [-3.78310457, -1.7814597 ,  6.61480248, ...,  0.67214626,\n",
       "        -0.67069241,  0.38933558]])"
      ]
     },
     "execution_count": 55,
     "metadata": {},
     "output_type": "execute_result"
    }
   ],
   "source": [
    "sklearn_lda.fit_transform(x_std, y)"
   ]
  },
  {
   "cell_type": "code",
   "execution_count": null,
   "metadata": {},
   "outputs": [],
   "source": []
  }
 ],
 "metadata": {
  "kernelspec": {
   "display_name": "Python 3",
   "language": "python",
   "name": "python3"
  },
  "language_info": {
   "codemirror_mode": {
    "name": "ipython",
    "version": 3
   },
   "file_extension": ".py",
   "mimetype": "text/x-python",
   "name": "python",
   "nbconvert_exporter": "python",
   "pygments_lexer": "ipython3",
   "version": "3.8.5"
  }
 },
 "nbformat": 4,
 "nbformat_minor": 4
}
